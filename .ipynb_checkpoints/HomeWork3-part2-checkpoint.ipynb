{
 "cells": [
  {
   "cell_type": "code",
   "execution_count": 69,
   "metadata": {},
   "outputs": [],
   "source": [
    "import numpy as np\n",
    "from sklearn.metrics import pairwise_distances\n",
    "import random\n"
   ]
  },
  {
   "cell_type": "code",
   "execution_count": 70,
   "metadata": {},
   "outputs": [],
   "source": [
    "total_numberOf_clusters = 10\n",
    "test_file = open('1604556007_243332_1601384482_8387134_image_new_test.txt', 'r', encoding=\"utf8\")\n",
    "\n",
    "InputData = []\n",
    "for line in test_file:\n",
    "  \n",
    "    line = line.strip()\n",
    "    #line = [float(x) for x in line.replace(\",\", \"\")]\n",
    "    line = [float(x) for x in line.split(\",\")]\n",
    "    InputData.append(line)\n",
    "    "
   ]
  },
  {
   "cell_type": "code",
   "execution_count": 71,
   "metadata": {},
   "outputs": [],
   "source": [
    "#Now changing list to array\n",
    "test_data = np.array(InputData)\n",
    "total_numberOf_data = test_data.shape[0]\n"
   ]
  },
  {
   "cell_type": "code",
   "execution_count": 72,
   "metadata": {},
   "outputs": [],
   "source": [
    "#This will get 10 centroids randomly \n",
    "centroids = test_data[np.random.choice(total_numberOf_data, total_numberOf_clusters, replace = False)]\n",
    "\n"
   ]
  },
  {
   "cell_type": "code",
   "execution_count": 73,
   "metadata": {},
   "outputs": [
    {
     "name": "stdout",
     "output_type": "stream",
     "text": [
      "[[[0. 0. 0. ... 0. 0. 0.]]\n",
      "\n",
      " [[0. 0. 0. ... 0. 0. 0.]]\n",
      "\n",
      " [[0. 0. 0. ... 0. 0. 0.]]\n",
      "\n",
      " ...\n",
      "\n",
      " [[0. 0. 0. ... 0. 0. 0.]]\n",
      "\n",
      " [[0. 0. 0. ... 0. 0. 0.]]\n",
      "\n",
      " [[0. 0. 0. ... 0. 0. 0.]]]\n"
     ]
    }
   ],
   "source": [
    "\n",
    "    distance = pairwise_distances(X = test_data, Y = centroids, metric = 'cosine')\n",
    "    final_cluster = distance.argmin(axis = 1)\n",
    "\n",
    "    \n",
    "    #store the centroids\n",
    "    last_centroids = centroids\n",
    "   \n",
    "\n",
    "    new_centroid_list = []\n",
    "\n",
    "    #loop through each cluster (This loops ten times)\n",
    "    for cluster in range(total_numberOf_clusters):\n",
    "\n",
    "        mean_array = np.array([test_data[final_cluster == cluster].mean(axis = 0)])\n",
    "        new_centroid_list.append(mean_array)\n",
    "\n",
    "    centroids = new_centroid_list\n",
    "\n",
    "    \n",
    "\n",
    "    #print(final_cluster)\n",
    "''''centroids_array = [] \n",
    "centroids_array.append(new_centroid_list[0][0])\n",
    "centroids_array.append(new_centroid_list[1][0])\n",
    "centroids_array.append(new_centroid_list[2][0])\n",
    "centroids_array.append(new_centroid_list[3][0])\n",
    "centroids_array.append(new_centroid_list[4][0])\n",
    "centroids_array.append(new_centroid_list[5][0])\n",
    "centroids_array.append(new_centroid_list[6][0])\n",
    "centroids_array.append(new_centroid_list[7][0])\n",
    "centroids_array.append(new_centroid_list[8][0])\n",
    "centroids_array.append(new_centroid_list[9][0])'''\n",
    "centroid_array = np.array(new_centroid_list)\n",
    "print(centroid_array)\n",
    "        \n",
    "\n",
    "    "
   ]
  },
  {
   "cell_type": "code",
   "execution_count": 63,
   "metadata": {},
   "outputs": [
    {
     "data": {
      "text/plain": [
       "<matplotlib.image.AxesImage at 0x1897cb08>"
      ]
     },
     "execution_count": 63,
     "metadata": {},
     "output_type": "execute_result"
    },
    {
     "data": {
      "image/png": "[encoded data removed]",
      "text/plain": [
       "<Figure size 432x288 with 1 Axes>"
      ]
     },
     "metadata": {
      "needs_background": "light"
     },
     "output_type": "display_data"
    }
   ],
   "source": [
    "''''from sklearn.datasets import load_digits\n",
    "from sklearn.decomposition import PCA\n",
    "import matplotlib.pyplot as plt\n",
    "#Load Data\n",
    "#data = load_digits().data\n",
    "pca = PCA(2)\n",
    " \n",
    "    \n",
    "#Transform the data\n",
    "df = pca.fit_transform(test_data)\n",
    "\n",
    "df_center = pca.fit_transform(centroids_array)\n",
    "\n",
    " \n",
    "df.shape\n",
    "df_center\n",
    "\n",
    "plt.scatter(df[:, 0], df[:, 1], c=final_cluster,s=40, cmap='viridis')\n",
    "plt.scatter(df_center[:, 0], df_center[:, 1], c='black', s=200, alpha=0.5)'''\n",
    "\n",
    "image_sample = centroid_array[8,:].reshape(28,28)\n",
    "plt.imshow(image_sample)\n",
    "    "
   ]
  },
  {
   "cell_type": "code",
   "execution_count": 19,
   "metadata": {},
   "outputs": [],
   "source": [
    "#writing in the output file\n",
    "final_cluster = final_cluster.tolist()\n",
    "length_finalCluster = len(final_cluster)\n",
    "output_file = open(\"image_format.txt\", \"w+\")\n",
    "for i in range(length_finalCluster):\n",
    "    output_file.write(str(final_cluster[i]+1)+\"\\n\")\n",
    "output_file.close() "
   ]
  },
  {
   "cell_type": "code",
   "execution_count": 39,
   "metadata": {},
   "outputs": [],
   "source": []
  },
  {
   "cell_type": "code",
   "execution_count": null,
   "metadata": {},
   "outputs": [],
   "source": []
  },
  {
   "cell_type": "code",
   "execution_count": null,
   "metadata": {},
   "outputs": [],
   "source": []
  }
 ],
 "metadata": {
  "kernelspec": {
   "display_name": "Python 3",
   "language": "python",
   "name": "python3"
  },
  "language_info": {
   "codemirror_mode": {
    "name": "ipython",
    "version": 3
   },
   "file_extension": ".py",
   "mimetype": "text/x-python",
   "name": "python",
   "nbconvert_exporter": "python",
   "pygments_lexer": "ipython3",
   "version": "3.8.5"
  }
 },
 "nbformat": 4,
 "nbformat_minor": 4
}
